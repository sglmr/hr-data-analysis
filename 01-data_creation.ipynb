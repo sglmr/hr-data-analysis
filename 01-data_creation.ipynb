{
 "cells": [
  {
   "cell_type": "markdown",
   "metadata": {},
   "source": [
    "# HR Data Analysis with Python"
   ]
  },
  {
   "cell_type": "markdown",
   "metadata": {},
   "source": [
    "## Create the dataset"
   ]
  },
  {
   "cell_type": "code",
   "execution_count": 4,
   "metadata": {},
   "outputs": [],
   "source": [
    "# Imports\n",
    "import random\n",
    "from datetime import datetime\n",
    "from pathlib import Path\n",
    "\n",
    "import polars as pl\n",
    "from faker import Faker\n",
    "\n",
    "# Initialize Faker for fake data generation\n",
    "faker = Faker()"
   ]
  },
  {
   "cell_type": "code",
   "execution_count": 5,
   "metadata": {},
   "outputs": [],
   "source": [
    "# Generate data for 40000 employees\n",
    "employee_ids = range(1, 4000)\n",
    "\n",
    "titles = [\n",
    "    \"Engineer\",\n",
    "    \"Analyst\",\n",
    "    \"Manager\",\n",
    "    \"Partner\",\n",
    "    \"Specialist\",\n",
    "    \"Salesperson\",\n",
    "]\n",
    "departments = [\"Engineering\", \"HR\", \"Sales\", \"Finance\", \"Marketing\"]\n",
    "\n",
    "df = pl.DataFrame(\n",
    "    {\n",
    "        \"employee_ID\": employee_ids,\n",
    "        \"name\": [faker.name() for _ in employee_ids],\n",
    "        \"dob\": [\n",
    "            faker.date_of_birth(tzinfo=None, minimum_age=18, maximum_age=65)\n",
    "            for _ in employee_ids\n",
    "        ],\n",
    "        \"gender\": [random.choice([\"m\", \"f\", \"\", \"m\", \"f\"]) for _ in employee_ids],\n",
    "        \"title\": [random.choice(titles) for _ in employee_ids],\n",
    "        \"department\": [random.choice(departments) for _ in employee_ids],\n",
    "        \"salary\": [random.randint(40000, 120000) for _ in employee_ids],\n",
    "        \"hire_date\": [\n",
    "            faker.date_of_birth(tzinfo=None, minimum_age=0, maximum_age=12)\n",
    "            for _ in employee_ids\n",
    "        ],\n",
    "    }\n",
    ")\n",
    "\n"
   ]
  },
  {
   "cell_type": "markdown",
   "metadata": {},
   "source": [
    "# TODO List\n",
    "\n",
    "- Add a manager field to the dataset\n",
    "- Add a termination date field to the dataset"
   ]
  },
  {
   "cell_type": "code",
   "execution_count": 6,
   "metadata": {},
   "outputs": [],
   "source": [
    "# Write out the notebook to a CSV file in the data folder\n",
    "hr_data = Path.cwd() / \"data\" / \"raw\" / \"hr_data.csv\"\n",
    "df.write_csv(hr_data)\n"
   ]
  }
 ],
 "metadata": {
  "kernelspec": {
   "display_name": "venv",
   "language": "python",
   "name": "python3"
  },
  "language_info": {
   "codemirror_mode": {
    "name": "ipython",
    "version": 3
   },
   "file_extension": ".py",
   "mimetype": "text/x-python",
   "name": "python",
   "nbconvert_exporter": "python",
   "pygments_lexer": "ipython3",
   "version": "3.11.6"
  }
 },
 "nbformat": 4,
 "nbformat_minor": 2
}
